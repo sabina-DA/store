{
 "cells": [
  {
   "cell_type": "markdown",
   "metadata": {},
   "source": [
    "# Drawing Conclusions Quiz\n",
    "Use the space below to explore `store_data.csv` to answer the quiz questions below."
   ]
  },
  {
   "cell_type": "code",
   "execution_count": 73,
   "metadata": {},
   "outputs": [
    {
     "name": "stdout",
     "output_type": "stream",
     "text": [
      "<class 'pandas.core.frame.DataFrame'>\n",
      "RangeIndex: 200 entries, 0 to 199\n",
      "Data columns (total 6 columns):\n",
      "week      200 non-null object\n",
      "storeA    200 non-null int64\n",
      "storeB    200 non-null int64\n",
      "storeC    200 non-null int64\n",
      "storeD    200 non-null int64\n",
      "storeE    200 non-null int64\n",
      "dtypes: int64(5), object(1)\n",
      "memory usage: 9.5+ KB\n"
     ]
    },
    {
     "data": {
      "text/html": [
       "<div>\n",
       "<style>\n",
       "    .dataframe thead tr:only-child th {\n",
       "        text-align: right;\n",
       "    }\n",
       "\n",
       "    .dataframe thead th {\n",
       "        text-align: left;\n",
       "    }\n",
       "\n",
       "    .dataframe tbody tr th {\n",
       "        vertical-align: top;\n",
       "    }\n",
       "</style>\n",
       "<table border=\"1\" class=\"dataframe\">\n",
       "  <thead>\n",
       "    <tr style=\"text-align: right;\">\n",
       "      <th></th>\n",
       "      <th>week</th>\n",
       "      <th>storeA</th>\n",
       "      <th>storeB</th>\n",
       "      <th>storeC</th>\n",
       "      <th>storeD</th>\n",
       "      <th>storeE</th>\n",
       "    </tr>\n",
       "  </thead>\n",
       "  <tbody>\n",
       "    <tr>\n",
       "      <th>0</th>\n",
       "      <td>2014-05-04</td>\n",
       "      <td>2643</td>\n",
       "      <td>8257</td>\n",
       "      <td>3893</td>\n",
       "      <td>6231</td>\n",
       "      <td>1294</td>\n",
       "    </tr>\n",
       "    <tr>\n",
       "      <th>1</th>\n",
       "      <td>2014-05-11</td>\n",
       "      <td>6444</td>\n",
       "      <td>5736</td>\n",
       "      <td>5634</td>\n",
       "      <td>7092</td>\n",
       "      <td>2907</td>\n",
       "    </tr>\n",
       "    <tr>\n",
       "      <th>2</th>\n",
       "      <td>2014-05-18</td>\n",
       "      <td>9646</td>\n",
       "      <td>2552</td>\n",
       "      <td>4253</td>\n",
       "      <td>5447</td>\n",
       "      <td>4736</td>\n",
       "    </tr>\n",
       "    <tr>\n",
       "      <th>3</th>\n",
       "      <td>2014-05-25</td>\n",
       "      <td>5960</td>\n",
       "      <td>10740</td>\n",
       "      <td>8264</td>\n",
       "      <td>6063</td>\n",
       "      <td>949</td>\n",
       "    </tr>\n",
       "    <tr>\n",
       "      <th>4</th>\n",
       "      <td>2014-06-01</td>\n",
       "      <td>7412</td>\n",
       "      <td>7374</td>\n",
       "      <td>3208</td>\n",
       "      <td>3985</td>\n",
       "      <td>3023</td>\n",
       "    </tr>\n",
       "  </tbody>\n",
       "</table>\n",
       "</div>"
      ],
      "text/plain": [
       "         week  storeA  storeB  storeC  storeD  storeE\n",
       "0  2014-05-04    2643    8257    3893    6231    1294\n",
       "1  2014-05-11    6444    5736    5634    7092    2907\n",
       "2  2014-05-18    9646    2552    4253    5447    4736\n",
       "3  2014-05-25    5960   10740    8264    6063     949\n",
       "4  2014-06-01    7412    7374    3208    3985    3023"
      ]
     },
     "execution_count": 73,
     "metadata": {},
     "output_type": "execute_result"
    }
   ],
   "source": [
    "# imports and load data\n",
    "import pandas as pd\n",
    "%matplotlib inline\n",
    "import matplotlib.pyplot as plt\n",
    "\n",
    "df_stores=pd.read_csv('store_data.csv')\n",
    "df_stores.info()\n",
    "df_stores.head()\n"
   ]
  },
  {
   "cell_type": "code",
   "execution_count": 74,
   "metadata": {},
   "outputs": [
    {
     "data": {
      "text/html": [
       "<div>\n",
       "<style>\n",
       "    .dataframe thead tr:only-child th {\n",
       "        text-align: right;\n",
       "    }\n",
       "\n",
       "    .dataframe thead th {\n",
       "        text-align: left;\n",
       "    }\n",
       "\n",
       "    .dataframe tbody tr th {\n",
       "        vertical-align: top;\n",
       "    }\n",
       "</style>\n",
       "<table border=\"1\" class=\"dataframe\">\n",
       "  <thead>\n",
       "    <tr style=\"text-align: right;\">\n",
       "      <th></th>\n",
       "      <th>storeA</th>\n",
       "      <th>storeB</th>\n",
       "      <th>storeC</th>\n",
       "      <th>storeD</th>\n",
       "      <th>storeE</th>\n",
       "    </tr>\n",
       "    <tr>\n",
       "      <th>week</th>\n",
       "      <th></th>\n",
       "      <th></th>\n",
       "      <th></th>\n",
       "      <th></th>\n",
       "      <th></th>\n",
       "    </tr>\n",
       "  </thead>\n",
       "  <tbody>\n",
       "    <tr>\n",
       "      <th>False</th>\n",
       "      <td>1057410</td>\n",
       "      <td>1254070</td>\n",
       "      <td>897753</td>\n",
       "      <td>998384</td>\n",
       "      <td>478733</td>\n",
       "    </tr>\n",
       "    <tr>\n",
       "      <th>True</th>\n",
       "      <td>115686</td>\n",
       "      <td>97272</td>\n",
       "      <td>90668</td>\n",
       "      <td>87897</td>\n",
       "      <td>37272</td>\n",
       "    </tr>\n",
       "  </tbody>\n",
       "</table>\n",
       "</div>"
      ],
      "text/plain": [
       "        storeA   storeB  storeC  storeD  storeE\n",
       "week                                           \n",
       "False  1057410  1254070  897753  998384  478733\n",
       "True    115686    97272   90668   87897   37272"
      ]
     },
     "execution_count": 74,
     "metadata": {},
     "output_type": "execute_result"
    }
   ],
   "source": [
    "# total sales for the last month\n",
    "df_stores['week']=pd.to_datetime(df_stores.week)\n",
    "df_month=df_stores.week.dt.month\n",
    "#df_stores.loc[df_month==12,'storeA'].sum()\n",
    "#df_stores.loc[df_stores['df_month']==12,'storeA'].sum()\n",
    "\n",
    "df_stores.groupby(df_month==12).sum()\n",
    "\n"
   ]
  },
  {
   "cell_type": "code",
   "execution_count": 75,
   "metadata": {},
   "outputs": [
    {
     "data": {
      "text/html": [
       "<div>\n",
       "<style>\n",
       "    .dataframe thead tr:only-child th {\n",
       "        text-align: right;\n",
       "    }\n",
       "\n",
       "    .dataframe thead th {\n",
       "        text-align: left;\n",
       "    }\n",
       "\n",
       "    .dataframe tbody tr th {\n",
       "        vertical-align: top;\n",
       "    }\n",
       "</style>\n",
       "<table border=\"1\" class=\"dataframe\">\n",
       "  <thead>\n",
       "    <tr style=\"text-align: right;\">\n",
       "      <th></th>\n",
       "      <th>week</th>\n",
       "      <th>storeA</th>\n",
       "      <th>storeB</th>\n",
       "      <th>storeC</th>\n",
       "      <th>storeD</th>\n",
       "      <th>storeE</th>\n",
       "    </tr>\n",
       "  </thead>\n",
       "  <tbody>\n",
       "    <tr>\n",
       "      <th>0</th>\n",
       "      <td>2014-05-04</td>\n",
       "      <td>2643</td>\n",
       "      <td>8257</td>\n",
       "      <td>3893</td>\n",
       "      <td>6231</td>\n",
       "      <td>1294</td>\n",
       "    </tr>\n",
       "    <tr>\n",
       "      <th>1</th>\n",
       "      <td>2014-05-11</td>\n",
       "      <td>6444</td>\n",
       "      <td>5736</td>\n",
       "      <td>5634</td>\n",
       "      <td>7092</td>\n",
       "      <td>2907</td>\n",
       "    </tr>\n",
       "    <tr>\n",
       "      <th>2</th>\n",
       "      <td>2014-05-18</td>\n",
       "      <td>9646</td>\n",
       "      <td>2552</td>\n",
       "      <td>4253</td>\n",
       "      <td>5447</td>\n",
       "      <td>4736</td>\n",
       "    </tr>\n",
       "    <tr>\n",
       "      <th>3</th>\n",
       "      <td>2014-05-25</td>\n",
       "      <td>5960</td>\n",
       "      <td>10740</td>\n",
       "      <td>8264</td>\n",
       "      <td>6063</td>\n",
       "      <td>949</td>\n",
       "    </tr>\n",
       "    <tr>\n",
       "      <th>4</th>\n",
       "      <td>2014-06-01</td>\n",
       "      <td>7412</td>\n",
       "      <td>7374</td>\n",
       "      <td>3208</td>\n",
       "      <td>3985</td>\n",
       "      <td>3023</td>\n",
       "    </tr>\n",
       "  </tbody>\n",
       "</table>\n",
       "</div>"
      ],
      "text/plain": [
       "        week  storeA  storeB  storeC  storeD  storeE\n",
       "0 2014-05-04    2643    8257    3893    6231    1294\n",
       "1 2014-05-11    6444    5736    5634    7092    2907\n",
       "2 2014-05-18    9646    2552    4253    5447    4736\n",
       "3 2014-05-25    5960   10740    8264    6063     949\n",
       "4 2014-06-01    7412    7374    3208    3985    3023"
      ]
     },
     "execution_count": 75,
     "metadata": {},
     "output_type": "execute_result"
    }
   ],
   "source": [
    "df_stores.head()"
   ]
  },
  {
   "cell_type": "code",
   "execution_count": 76,
   "metadata": {},
   "outputs": [],
   "source": [
    "#df_stores.loc[df_month==12,'storeB'].sum()\n",
    "\n",
    "#df_stores.loc[df_month==12,'storeC'].sum()\n",
    "\n",
    "#df_stores.loc[df_month==12,'storeD'].sum()\n",
    "\n",
    "#df_stores.loc[df_month==12,'storeE'].sum()"
   ]
  },
  {
   "cell_type": "code",
   "execution_count": 77,
   "metadata": {},
   "outputs": [
    {
     "data": {
      "text/html": [
       "<div>\n",
       "<style>\n",
       "    .dataframe thead tr:only-child th {\n",
       "        text-align: right;\n",
       "    }\n",
       "\n",
       "    .dataframe thead th {\n",
       "        text-align: left;\n",
       "    }\n",
       "\n",
       "    .dataframe tbody tr th {\n",
       "        vertical-align: top;\n",
       "    }\n",
       "</style>\n",
       "<table border=\"1\" class=\"dataframe\">\n",
       "  <thead>\n",
       "    <tr style=\"text-align: right;\">\n",
       "      <th></th>\n",
       "      <th>storeA</th>\n",
       "      <th>storeB</th>\n",
       "      <th>storeC</th>\n",
       "      <th>storeD</th>\n",
       "      <th>storeE</th>\n",
       "    </tr>\n",
       "  </thead>\n",
       "  <tbody>\n",
       "    <tr>\n",
       "      <th>count</th>\n",
       "      <td>200.000000</td>\n",
       "      <td>200.000000</td>\n",
       "      <td>200.000000</td>\n",
       "      <td>200.000000</td>\n",
       "      <td>200.000000</td>\n",
       "    </tr>\n",
       "    <tr>\n",
       "      <th>mean</th>\n",
       "      <td>5865.480000</td>\n",
       "      <td>6756.710000</td>\n",
       "      <td>4942.105000</td>\n",
       "      <td>5431.405000</td>\n",
       "      <td>2580.025000</td>\n",
       "    </tr>\n",
       "    <tr>\n",
       "      <th>std</th>\n",
       "      <td>2958.230318</td>\n",
       "      <td>3601.339489</td>\n",
       "      <td>1325.407768</td>\n",
       "      <td>1183.111323</td>\n",
       "      <td>1725.651381</td>\n",
       "    </tr>\n",
       "    <tr>\n",
       "      <th>min</th>\n",
       "      <td>137.000000</td>\n",
       "      <td>14.000000</td>\n",
       "      <td>927.000000</td>\n",
       "      <td>2276.000000</td>\n",
       "      <td>39.000000</td>\n",
       "    </tr>\n",
       "    <tr>\n",
       "      <th>25%</th>\n",
       "      <td>3812.250000</td>\n",
       "      <td>3884.500000</td>\n",
       "      <td>4053.500000</td>\n",
       "      <td>4717.000000</td>\n",
       "      <td>1235.000000</td>\n",
       "    </tr>\n",
       "    <tr>\n",
       "      <th>50%</th>\n",
       "      <td>5713.500000</td>\n",
       "      <td>6771.000000</td>\n",
       "      <td>4962.500000</td>\n",
       "      <td>5382.000000</td>\n",
       "      <td>2522.000000</td>\n",
       "    </tr>\n",
       "    <tr>\n",
       "      <th>75%</th>\n",
       "      <td>7662.250000</td>\n",
       "      <td>9350.500000</td>\n",
       "      <td>5801.750000</td>\n",
       "      <td>6243.750000</td>\n",
       "      <td>3574.250000</td>\n",
       "    </tr>\n",
       "    <tr>\n",
       "      <th>max</th>\n",
       "      <td>14403.000000</td>\n",
       "      <td>15841.000000</td>\n",
       "      <td>8293.000000</td>\n",
       "      <td>8190.000000</td>\n",
       "      <td>7553.000000</td>\n",
       "    </tr>\n",
       "  </tbody>\n",
       "</table>\n",
       "</div>"
      ],
      "text/plain": [
       "             storeA        storeB       storeC       storeD       storeE\n",
       "count    200.000000    200.000000   200.000000   200.000000   200.000000\n",
       "mean    5865.480000   6756.710000  4942.105000  5431.405000  2580.025000\n",
       "std     2958.230318   3601.339489  1325.407768  1183.111323  1725.651381\n",
       "min      137.000000     14.000000   927.000000  2276.000000    39.000000\n",
       "25%     3812.250000   3884.500000  4053.500000  4717.000000  1235.000000\n",
       "50%     5713.500000   6771.000000  4962.500000  5382.000000  2522.000000\n",
       "75%     7662.250000   9350.500000  5801.750000  6243.750000  3574.250000\n",
       "max    14403.000000  15841.000000  8293.000000  8190.000000  7553.000000"
      ]
     },
     "execution_count": 77,
     "metadata": {},
     "output_type": "execute_result"
    }
   ],
   "source": [
    "# average sales\n",
    "df_stores.describe()"
   ]
  },
  {
   "cell_type": "code",
   "execution_count": 79,
   "metadata": {},
   "outputs": [
    {
     "data": {
      "text/html": [
       "<div>\n",
       "<style>\n",
       "    .dataframe thead tr:only-child th {\n",
       "        text-align: right;\n",
       "    }\n",
       "\n",
       "    .dataframe thead th {\n",
       "        text-align: left;\n",
       "    }\n",
       "\n",
       "    .dataframe tbody tr th {\n",
       "        vertical-align: top;\n",
       "    }\n",
       "</style>\n",
       "<table border=\"1\" class=\"dataframe\">\n",
       "  <thead>\n",
       "    <tr style=\"text-align: right;\">\n",
       "      <th></th>\n",
       "      <th>storeA</th>\n",
       "      <th>storeB</th>\n",
       "      <th>storeC</th>\n",
       "      <th>storeD</th>\n",
       "      <th>storeE</th>\n",
       "    </tr>\n",
       "    <tr>\n",
       "      <th>week</th>\n",
       "      <th></th>\n",
       "      <th></th>\n",
       "      <th></th>\n",
       "      <th></th>\n",
       "      <th></th>\n",
       "    </tr>\n",
       "  </thead>\n",
       "  <tbody>\n",
       "    <tr>\n",
       "      <th>False</th>\n",
       "      <td>1171042</td>\n",
       "      <td>1349952</td>\n",
       "      <td>983309</td>\n",
       "      <td>1080768</td>\n",
       "      <td>513469</td>\n",
       "    </tr>\n",
       "    <tr>\n",
       "      <th>True</th>\n",
       "      <td>2054</td>\n",
       "      <td>1390</td>\n",
       "      <td>5112</td>\n",
       "      <td>5513</td>\n",
       "      <td>2536</td>\n",
       "    </tr>\n",
       "  </tbody>\n",
       "</table>\n",
       "</div>"
      ],
      "text/plain": [
       "        storeA   storeB  storeC   storeD  storeE\n",
       "week                                            \n",
       "False  1171042  1349952  983309  1080768  513469\n",
       "True      2054     1390    5112     5513    2536"
      ]
     },
     "execution_count": 79,
     "metadata": {},
     "output_type": "execute_result"
    }
   ],
   "source": [
    "# sales on march 13, 2016\n",
    "#df_stores.loc[df_stores['week']=='2016-03-13','storeA']\n",
    "df_stores.groupby(df_stores['week']=='2016-03-13').sum()"
   ]
  },
  {
   "cell_type": "code",
   "execution_count": 67,
   "metadata": {},
   "outputs": [],
   "source": [
    "#df_stores.loc[df_stores['week']=='2016-03-13','storeB']\n",
    "\n",
    "#df_stores.loc[df_stores['week']=='2016-03-13','storeC']\n",
    "\n",
    "#df_stores.loc[df_stores['week']=='2016-03-13','storeD']\n",
    "\n",
    "#df_stores.loc[df_stores['week']=='2016-03-13','storeE']"
   ]
  },
  {
   "cell_type": "code",
   "execution_count": 15,
   "metadata": {},
   "outputs": [
    {
     "data": {
      "text/plain": [
       "9   2014-07-06\n",
       "Name: week, dtype: datetime64[ns]"
      ]
     },
     "execution_count": 15,
     "metadata": {},
     "output_type": "execute_result"
    }
   ],
   "source": [
    "# worst week for store C\n",
    "df_stores['storeC'].min()\n",
    "df_stores.loc[df_stores['storeC']==927,'week']"
   ]
  },
  {
   "cell_type": "code",
   "execution_count": 56,
   "metadata": {},
   "outputs": [
    {
     "name": "stdout",
     "output_type": "stream",
     "text": [
      "            storeA  storeB  storeC  storeD  storeE\n",
      "week                                              \n",
      "2017-12-03    5179    3850    6121    6778     113\n",
      "2017-12-10    9348    5624    5446    5448     227\n",
      "2017-12-17    5310    8647    5680    7049    3578\n",
      "2017-12-24    8976    9503    6240    3882    2890\n",
      "2017-12-31   11875    1527    6711    5265    1701\n",
      "2018-01-07    8978   11312    4158    5019    3842\n",
      "2018-01-14    6963    4014    4215    7153    3097\n",
      "2018-01-21    5553    3971    3761    6255    3071\n",
      "2018-01-28     282    6351    7759    5558    1028\n",
      "2018-02-04    4853    6503    4187    5956    1458\n",
      "2018-02-11    9202    3677    4540    6186     243\n",
      "2018-02-18    3512    7511    4151    5596    3501\n",
      "2018-02-25    7560    6904    3569    5045    2585\n"
     ]
    }
   ],
   "source": [
    "# total sales during most recent 3 month period\n",
    "df_recent= df_stores.set_index('week').last('3M')\n",
    "print(df_recent)"
   ]
  },
  {
   "cell_type": "code",
   "execution_count": 69,
   "metadata": {},
   "outputs": [],
   "source": [
    "#df_recent['storeA'].sum()\n",
    "\n",
    "#df_recent['storeB'].sum()\n",
    "\n",
    "#df_recent['storeC'].sum()\n",
    "\n",
    "#df_recent['storeD'].sum()\n",
    "\n",
    "#df_recent['storeE'].sum()"
   ]
  },
  {
   "cell_type": "code",
   "execution_count": 57,
   "metadata": {},
   "outputs": [
    {
     "data": {
      "text/plain": [
       "storeA    87591\n",
       "storeB    79394\n",
       "storeC    66538\n",
       "storeD    75190\n",
       "storeE    27334\n",
       "dtype: int64"
      ]
     },
     "execution_count": 57,
     "metadata": {},
     "output_type": "execute_result"
    }
   ],
   "source": [
    "df_recent.sum()"
   ]
  },
  {
   "cell_type": "code",
   "execution_count": null,
   "metadata": {
    "collapsed": true
   },
   "outputs": [],
   "source": []
  }
 ],
 "metadata": {
  "kernelspec": {
   "display_name": "Python 3",
   "language": "python",
   "name": "python3"
  },
  "language_info": {
   "codemirror_mode": {
    "name": "ipython",
    "version": 3
   },
   "file_extension": ".py",
   "mimetype": "text/x-python",
   "name": "python",
   "nbconvert_exporter": "python",
   "pygments_lexer": "ipython3",
   "version": "3.6.1"
  }
 },
 "nbformat": 4,
 "nbformat_minor": 2
}
